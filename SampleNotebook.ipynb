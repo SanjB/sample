{
  "cells": [
    {
      "metadata": {
        "trusted": true
      },
      "cell_type": "code",
      "source": "!pip3 install xlrd\n!pip3 install openpyxl",
      "execution_count": 26,
      "outputs": [
        {
          "output_type": "stream",
          "text": "Requirement already satisfied: xlrd in /home/nbuser/anaconda3_420/lib/python3.5/site-packages (1.0.0)\n\u001b[33mWARNING: You are using pip version 19.2.2, however version 19.2.3 is available.\nYou should consider upgrading via the 'pip install --upgrade pip' command.\u001b[0m\nRequirement already satisfied: openpyxl in /home/nbuser/anaconda3_420/lib/python3.5/site-packages (2.3.2)\nRequirement already satisfied: jdcal in /home/nbuser/anaconda3_420/lib/python3.5/site-packages (from openpyxl) (1.2)\nRequirement already satisfied: et_xmlfile in /home/nbuser/anaconda3_420/lib/python3.5/site-packages (from openpyxl) (1.0.1)\n\u001b[33mWARNING: You are using pip version 19.2.2, however version 19.2.3 is available.\nYou should consider upgrading via the 'pip install --upgrade pip' command.\u001b[0m\n",
          "name": "stdout"
        }
      ]
    },
    {
      "metadata": {},
      "cell_type": "markdown",
      "source": "## Install Required packages"
    },
    {
      "metadata": {},
      "cell_type": "markdown",
      "source": "### Download Custom library, Sample data and then Import modules\n"
    },
    {
      "metadata": {
        "trusted": true
      },
      "cell_type": "code",
      "source": "!curl https://raw.githubusercontent.com/lavbox/Jupyter/master/Sample.xlsx -o Sample.xlsx\n# !curl https://raw.githubusercontent.com/lavbox/Jupyter/master/mycustomlib.py -o mycustomlib.py \nimport math\ndef custom_sqrt(x):\n   y = math.sqrt(x)\n   return y\n\n# import modules\nimport pandas as pd\n# import mycustomlib as mylib\nimport matplotlib.pyplot as plt",
      "execution_count": 27,
      "outputs": [
        {
          "output_type": "stream",
          "text": "  % Total    % Received % Xferd  Average Speed   Time    Time     Time  Current\n                                 Dload  Upload   Total   Spent    Left  Speed\n100  8416  100  8416    0     0  35150      0 --:--:-- --:--:-- --:--:-- 35812\n",
          "name": "stdout"
        }
      ]
    },
    {
      "metadata": {},
      "cell_type": "markdown",
      "source": "### Load Input file (Excel)"
    },
    {
      "metadata": {
        "trusted": true
      },
      "cell_type": "code",
      "source": "xls_file = pd.ExcelFile('Sample.xlsx')\nxls_file",
      "execution_count": 28,
      "outputs": [
        {
          "output_type": "execute_result",
          "execution_count": 28,
          "data": {
            "text/plain": "<pandas.io.excel.ExcelFile at 0x7fbe26e90828>"
          },
          "metadata": {}
        }
      ]
    },
    {
      "metadata": {
        "trusted": true
      },
      "cell_type": "code",
      "source": "#display sheet names\nxls_file.sheet_names",
      "execution_count": 29,
      "outputs": [
        {
          "output_type": "execute_result",
          "execution_count": 29,
          "data": {
            "text/plain": "['Input']"
          },
          "metadata": {}
        }
      ]
    },
    {
      "metadata": {
        "trusted": true
      },
      "cell_type": "code",
      "source": "#read 'Input' sheet and display first 5 rows\ndf = xls_file.parse('Input')\ndf.head(5)",
      "execution_count": 30,
      "outputs": [
        {
          "output_type": "execute_result",
          "execution_count": 30,
          "data": {
            "text/plain": "   Property1  Property2  Property3\n0          4         14       -990\n1          7          8         96\n2          7         45         87\n3         45         23         98\n4         96          3         54",
            "text/html": "<div>\n<table border=\"1\" class=\"dataframe\">\n  <thead>\n    <tr style=\"text-align: right;\">\n      <th></th>\n      <th>Property1</th>\n      <th>Property2</th>\n      <th>Property3</th>\n    </tr>\n  </thead>\n  <tbody>\n    <tr>\n      <th>0</th>\n      <td>4</td>\n      <td>14</td>\n      <td>-990</td>\n    </tr>\n    <tr>\n      <th>1</th>\n      <td>7</td>\n      <td>8</td>\n      <td>96</td>\n    </tr>\n    <tr>\n      <th>2</th>\n      <td>7</td>\n      <td>45</td>\n      <td>87</td>\n    </tr>\n    <tr>\n      <th>3</th>\n      <td>45</td>\n      <td>23</td>\n      <td>98</td>\n    </tr>\n    <tr>\n      <th>4</th>\n      <td>96</td>\n      <td>3</td>\n      <td>54</td>\n    </tr>\n  </tbody>\n</table>\n</div>"
          },
          "metadata": {}
        }
      ]
    },
    {
      "metadata": {
        "trusted": true
      },
      "cell_type": "code",
      "source": "# original data frame\noriginal_data = df[\"Property1\"].head(5)\n",
      "execution_count": 31,
      "outputs": []
    },
    {
      "metadata": {
        "trusted": true
      },
      "cell_type": "code",
      "source": "#use custom library to transform the data\ntransformed_data = df[\"Property1\"].head(5).apply(custom_sqrt)",
      "execution_count": 32,
      "outputs": []
    },
    {
      "metadata": {},
      "cell_type": "markdown",
      "source": "### Plot the orginal and transformed data frame"
    },
    {
      "metadata": {
        "trusted": true
      },
      "cell_type": "code",
      "source": "%matplotlib inline\noriginal_data.plot()\ntransformed_data.plot()",
      "execution_count": 33,
      "outputs": [
        {
          "output_type": "execute_result",
          "execution_count": 33,
          "data": {
            "text/plain": "<matplotlib.axes._subplots.AxesSubplot at 0x7fbe26e84cf8>"
          },
          "metadata": {}
        },
        {
          "output_type": "display_data",
          "data": {
            "image/png": "[encoded data removed]",
            "text/plain": "<matplotlib.figure.Figure at 0x7fbe26e8f198>"
          },
          "metadata": {}
        }
      ]
    },
    {
      "metadata": {
        "trusted": true
      },
      "cell_type": "code",
      "source": "",
      "execution_count": null,
      "outputs": []
    },
    {
      "metadata": {
        "trusted": true
      },
      "cell_type": "code",
      "source": "",
      "execution_count": null,
      "outputs": []
    },
    {
      "metadata": {
        "trusted": true
      },
      "cell_type": "code",
      "source": "",
      "execution_count": null,
      "outputs": []
    },
    {
      "metadata": {
        "trusted": true
      },
      "cell_type": "code",
      "source": "",
      "execution_count": null,
      "outputs": []
    }
  ],
  "metadata": {
    "kernelspec": {
      "name": "python3",
      "display_name": "Python 3",
      "language": "python"
    },
    "language_info": {
      "mimetype": "text/x-python",
      "nbconvert_exporter": "python",
      "name": "python",
      "pygments_lexer": "ipython3",
      "version": "3.5.4",
      "file_extension": ".py",
      "codemirror_mode": {
        "version": 3,
        "name": "ipython"
      }
    }
  },
  "nbformat": 4,
  "nbformat_minor": 2
}