{
  "cells": [
    {
      "metadata": {
        "slideshow": {
          "slide_type": "skip"
        },
        "trusted": true
      },
      "cell_type": "code",
      "source": "# import modules\nimport math\nimport pandas as pd\nimport numpy as np",
      "execution_count": 4,
      "outputs": []
    },
    {
      "metadata": {
        "slideshow": {
          "slide_type": "slide"
        },
        "trusted": true
      },
      "cell_type": "code",
      "source": "product_array=['Product0','Product1','Product2','Product3','Product4']\nSIZE_OF_ARRAY = 5\ndf = pd.DataFrame({'Products' : product_array,\n                   'Rate' : np.array(np.random.randint(20,30,size=SIZE_OF_ARRAY),dtype='int32'),\n                   'Jan' : np.array(np.random.randint(1000,10000,size=SIZE_OF_ARRAY),dtype='int32'),\n                   'Feb' : np.array(np.random.randint(2000,10000,size=SIZE_OF_ARRAY),dtype='int32'),\n                   'Mar' : np.array(np.random.randint(4000,10000,size=SIZE_OF_ARRAY),dtype='int32'),    \n                })\ncols = ['Products','Rate','Jan','Feb','Mar']\ndf=df[cols]\ndf",
      "execution_count": 5,
      "outputs": [
        {
          "output_type": "execute_result",
          "execution_count": 5,
          "data": {
            "text/html": "<div>\n<style scoped>\n    .dataframe tbody tr th:only-of-type {\n        vertical-align: middle;\n    }\n\n    .dataframe tbody tr th {\n        vertical-align: top;\n    }\n\n    .dataframe thead th {\n        text-align: right;\n    }\n</style>\n<table border=\"1\" class=\"dataframe\">\n  <thead>\n    <tr style=\"text-align: right;\">\n      <th></th>\n      <th>Products</th>\n      <th>Rate</th>\n      <th>Jan</th>\n      <th>Feb</th>\n      <th>Mar</th>\n    </tr>\n  </thead>\n  <tbody>\n    <tr>\n      <th>0</th>\n      <td>Product0</td>\n      <td>21</td>\n      <td>9732</td>\n      <td>3000</td>\n      <td>8184</td>\n    </tr>\n    <tr>\n      <th>1</th>\n      <td>Product1</td>\n      <td>23</td>\n      <td>7683</td>\n      <td>7919</td>\n      <td>9231</td>\n    </tr>\n    <tr>\n      <th>2</th>\n      <td>Product2</td>\n      <td>20</td>\n      <td>4554</td>\n      <td>3000</td>\n      <td>5752</td>\n    </tr>\n    <tr>\n      <th>3</th>\n      <td>Product3</td>\n      <td>29</td>\n      <td>8867</td>\n      <td>9425</td>\n      <td>9263</td>\n    </tr>\n    <tr>\n      <th>4</th>\n      <td>Product4</td>\n      <td>22</td>\n      <td>7576</td>\n      <td>8459</td>\n      <td>6418</td>\n    </tr>\n  </tbody>\n</table>\n</div>",
            "text/plain": "   Products  Rate   Jan   Feb   Mar\n0  Product0    21  9732  3000  8184\n1  Product1    23  7683  7919  9231\n2  Product2    20  4554  3000  5752\n3  Product3    29  8867  9425  9263\n4  Product4    22  7576  8459  6418"
          },
          "metadata": {}
        }
      ]
    },
    {
      "metadata": {
        "slideshow": {
          "slide_type": "slide"
        },
        "trusted": true
      },
      "cell_type": "code",
      "source": "# Calculate new column from existing ones\n# total sales\n# Excel equivalent: =(C2+D2+E2) * B2\ndf[\"Total\"] = (df[\"Jan\"]+df[\"Feb\"]+df[\"Mar\"]*df[\"Rate\"])\ndf[\"Comments\"] = df[\"Total\"].apply(lambda x: 'Target Met' if x > 300000 else'Target not met')\ndf",
      "execution_count": 6,
      "outputs": [
        {
          "output_type": "execute_result",
          "execution_count": 6,
          "data": {
            "text/html": "<div>\n<style scoped>\n    .dataframe tbody tr th:only-of-type {\n        vertical-align: middle;\n    }\n\n    .dataframe tbody tr th {\n        vertical-align: top;\n    }\n\n    .dataframe thead th {\n        text-align: right;\n    }\n</style>\n<table border=\"1\" class=\"dataframe\">\n  <thead>\n    <tr style=\"text-align: right;\">\n      <th></th>\n      <th>Products</th>\n      <th>Rate</th>\n      <th>Jan</th>\n      <th>Feb</th>\n      <th>Mar</th>\n      <th>Total</th>\n      <th>Comments</th>\n    </tr>\n  </thead>\n  <tbody>\n    <tr>\n      <th>0</th>\n      <td>Product0</td>\n      <td>21</td>\n      <td>9732</td>\n      <td>3000</td>\n      <td>8184</td>\n      <td>184596</td>\n      <td>Targer not met</td>\n    </tr>\n    <tr>\n      <th>1</th>\n      <td>Product1</td>\n      <td>23</td>\n      <td>7683</td>\n      <td>7919</td>\n      <td>9231</td>\n      <td>227915</td>\n      <td>Targer not met</td>\n    </tr>\n    <tr>\n      <th>2</th>\n      <td>Product2</td>\n      <td>20</td>\n      <td>4554</td>\n      <td>3000</td>\n      <td>5752</td>\n      <td>122594</td>\n      <td>Targer not met</td>\n    </tr>\n    <tr>\n      <th>3</th>\n      <td>Product3</td>\n      <td>29</td>\n      <td>8867</td>\n      <td>9425</td>\n      <td>9263</td>\n      <td>286919</td>\n      <td>Targer not met</td>\n    </tr>\n    <tr>\n      <th>4</th>\n      <td>Product4</td>\n      <td>22</td>\n      <td>7576</td>\n      <td>8459</td>\n      <td>6418</td>\n      <td>157231</td>\n      <td>Targer not met</td>\n    </tr>\n  </tbody>\n</table>\n</div>",
            "text/plain": "   Products  Rate   Jan   Feb   Mar   Total        Comments\n0  Product0    21  9732  3000  8184  184596  Targer not met\n1  Product1    23  7683  7919  9231  227915  Targer not met\n2  Product2    20  4554  3000  5752  122594  Targer not met\n3  Product3    29  8867  9425  9263  286919  Targer not met\n4  Product4    22  7576  8459  6418  157231  Targer not met"
          },
          "metadata": {}
        }
      ]
    },
    {
      "metadata": {
        "slideshow": {
          "slide_type": "slide"
        },
        "trusted": true
      },
      "cell_type": "code",
      "source": "# Named ranges\n# Excel equivalent\n#'JAN_SALES = (B2*C2)+(B3*C3)+(B4*C4)' etc.\njan_sales=(df[\"Jan\"]*df[\"Rate\"]).sum()\nfeb_sales=(df[\"Feb\"]*df[\"Rate\"]).sum()\nmar_sales=(df[\"Mar\"]*df[\"Rate\"]).sum()\n\n# Operations on Named ranges\n# Excel equivalent\n#'TOTAL=SUM(JAN_SALED,FEB_SALES,MAR_SALES)'\ntotal = jan_sales + feb_sales + mar_sales\ntotal",
      "execution_count": 5,
      "outputs": [
        {
          "output_type": "execute_result",
          "execution_count": 5,
          "data": {
            "text/plain": "2471536"
          },
          "metadata": {}
        }
      ]
    },
    {
      "metadata": {
        "trusted": true
      },
      "cell_type": "code",
      "source": "",
      "execution_count": null,
      "outputs": []
    }
  ],
  "metadata": {
    "kernelspec": {
      "name": "python36",
      "display_name": "Python 3.6",
      "language": "python"
    },
    "language_info": {
      "mimetype": "text/x-python",
      "nbconvert_exporter": "python",
      "name": "python",
      "pygments_lexer": "ipython3",
      "version": "3.6.6",
      "file_extension": ".py",
      "codemirror_mode": {
        "version": 3,
        "name": "ipython"
      }
    }
  },
  "nbformat": 4,
  "nbformat_minor": 1
}