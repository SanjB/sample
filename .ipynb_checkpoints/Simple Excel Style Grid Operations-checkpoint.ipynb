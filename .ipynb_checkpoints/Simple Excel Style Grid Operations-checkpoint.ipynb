{
  "cells": [
    {
      "metadata": {
        "trusted": true
      },
      "cell_type": "code",
      "source": "# import modules\nimport math\nimport pandas as pd\nimport numpy as np",
      "execution_count": 5,
      "outputs": []
    },
    {
      "metadata": {
        "trusted": true
      },
      "cell_type": "code",
      "source": "product_array=['Product0','Product1','Product2','Product3','Product4']\nSIZE_OF_ARRAY = 5\ndf = pd.DataFrame({'Products' : product_array,\n                   'Rate' : np.array(np.random.randint(20,30,size=SIZE_OF_ARRAY),dtype='int32'),\n                   'Jan' : np.array(np.random.randint(6000,10000,size=SIZE_OF_ARRAY),dtype='int32'),\n                   'Feb' : np.array(np.random.randint(2000,10000,size=SIZE_OF_ARRAY),dtype='int32'),\n                   'Mar' : np.array(np.random.randint(4000,10000,size=SIZE_OF_ARRAY),dtype='int32'),    \n                })\ncols = ['Products','Rate','Jan','Feb','Mar']\ndf=df[cols]\ndf",
      "execution_count": 6,
      "outputs": [
        {
          "output_type": "execute_result",
          "execution_count": 6,
          "data": {
            "text/html": "<div>\n<style scoped>\n    .dataframe tbody tr th:only-of-type {\n        vertical-align: middle;\n    }\n\n    .dataframe tbody tr th {\n        vertical-align: top;\n    }\n\n    .dataframe thead th {\n        text-align: right;\n    }\n</style>\n<table border=\"1\" class=\"dataframe\">\n  <thead>\n    <tr style=\"text-align: right;\">\n      <th></th>\n      <th>Products</th>\n      <th>Rate</th>\n      <th>Jan</th>\n      <th>Feb</th>\n      <th>Mar</th>\n    </tr>\n  </thead>\n  <tbody>\n    <tr>\n      <th>0</th>\n      <td>Product0</td>\n      <td>28</td>\n      <td>7018</td>\n      <td>7496</td>\n      <td>8232</td>\n    </tr>\n    <tr>\n      <th>1</th>\n      <td>Product1</td>\n      <td>28</td>\n      <td>9581</td>\n      <td>5212</td>\n      <td>5225</td>\n    </tr>\n    <tr>\n      <th>2</th>\n      <td>Product2</td>\n      <td>28</td>\n      <td>8464</td>\n      <td>2379</td>\n      <td>8382</td>\n    </tr>\n    <tr>\n      <th>3</th>\n      <td>Product3</td>\n      <td>22</td>\n      <td>8938</td>\n      <td>5073</td>\n      <td>7975</td>\n    </tr>\n    <tr>\n      <th>4</th>\n      <td>Product4</td>\n      <td>23</td>\n      <td>6031</td>\n      <td>5651</td>\n      <td>9146</td>\n    </tr>\n  </tbody>\n</table>\n</div>",
            "text/plain": "   Products  Rate   Jan   Feb   Mar\n0  Product0    28  7018  7496  8232\n1  Product1    28  9581  5212  5225\n2  Product2    28  8464  2379  8382\n3  Product3    22  8938  5073  7975\n4  Product4    23  6031  5651  9146"
          },
          "metadata": {}
        }
      ]
    },
    {
      "metadata": {
        "trusted": true
      },
      "cell_type": "code",
      "source": "# Calculate new column from existing ones\n# total sales\n# Excel equivalent: =(C2+D2+E2) * B2\ndf[\"Total\"] = (df[\"Jan\"]+df[\"Feb\"]+df[\"Mar\"]*df[\"Rate\"])\ndf[\"Comments\"] = df[\"Total\"].apply(lambda x: 'Target Met' if x > 200000 else'Targer not met')\ndf",
      "execution_count": 8,
      "outputs": [
        {
          "output_type": "execute_result",
          "execution_count": 8,
          "data": {
            "text/html": "<div>\n<style scoped>\n    .dataframe tbody tr th:only-of-type {\n        vertical-align: middle;\n    }\n\n    .dataframe tbody tr th {\n        vertical-align: top;\n    }\n\n    .dataframe thead th {\n        text-align: right;\n    }\n</style>\n<table border=\"1\" class=\"dataframe\">\n  <thead>\n    <tr style=\"text-align: right;\">\n      <th></th>\n      <th>Products</th>\n      <th>Rate</th>\n      <th>Jan</th>\n      <th>Feb</th>\n      <th>Mar</th>\n      <th>Total</th>\n      <th>Comments</th>\n    </tr>\n  </thead>\n  <tbody>\n    <tr>\n      <th>0</th>\n      <td>Product0</td>\n      <td>28</td>\n      <td>7018</td>\n      <td>7496</td>\n      <td>8232</td>\n      <td>245010</td>\n      <td>Target Met</td>\n    </tr>\n    <tr>\n      <th>1</th>\n      <td>Product1</td>\n      <td>28</td>\n      <td>9581</td>\n      <td>5212</td>\n      <td>5225</td>\n      <td>161093</td>\n      <td>Targer not met</td>\n    </tr>\n    <tr>\n      <th>2</th>\n      <td>Product2</td>\n      <td>28</td>\n      <td>8464</td>\n      <td>2379</td>\n      <td>8382</td>\n      <td>245539</td>\n      <td>Target Met</td>\n    </tr>\n    <tr>\n      <th>3</th>\n      <td>Product3</td>\n      <td>22</td>\n      <td>8938</td>\n      <td>5073</td>\n      <td>7975</td>\n      <td>189461</td>\n      <td>Targer not met</td>\n    </tr>\n    <tr>\n      <th>4</th>\n      <td>Product4</td>\n      <td>23</td>\n      <td>6031</td>\n      <td>5651</td>\n      <td>9146</td>\n      <td>222040</td>\n      <td>Target Met</td>\n    </tr>\n  </tbody>\n</table>\n</div>",
            "text/plain": "   Products  Rate   Jan   Feb   Mar   Total        Comments\n0  Product0    28  7018  7496  8232  245010      Target Met\n1  Product1    28  9581  5212  5225  161093  Targer not met\n2  Product2    28  8464  2379  8382  245539      Target Met\n3  Product3    22  8938  5073  7975  189461  Targer not met\n4  Product4    23  6031  5651  9146  222040      Target Met"
          },
          "metadata": {}
        }
      ]
    },
    {
      "metadata": {
        "trusted": true
      },
      "cell_type": "code",
      "source": "# Named ranges\n# Excel equivalent\n#'JAN_SALES = (B2*C2)+(B3*C3)+(B4*C4)' etc.\njan_sales=(df[\"Jan\"]*df[\"Rate\"]).sum()\nfeb_sales=(df[\"Feb\"]*df[\"Rate\"]).sum()\nmar_sales=(df[\"Mar\"]*df[\"Rate\"]).sum()\n\n# Operations on Named ranges\n# Excel equivalent\n#'TOTAL=SUM(JAN_SALED,FEB_SALES,MAR_SALES)'\ntotal = jan_sales + feb_sales + mar_sales\ntotal",
      "execution_count": 9,
      "outputs": [
        {
          "output_type": "execute_result",
          "execution_count": 9,
          "data": {
            "text/plain": "2698428"
          },
          "metadata": {}
        }
      ]
    },
    {
      "metadata": {
        "trusted": true
      },
      "cell_type": "code",
      "source": "",
      "execution_count": null,
      "outputs": []
    }
  ],
  "metadata": {
    "kernelspec": {
      "name": "python36",
      "display_name": "Python 3.6",
      "language": "python"
    },
    "language_info": {
      "mimetype": "text/x-python",
      "nbconvert_exporter": "python",
      "name": "python",
      "pygments_lexer": "ipython3",
      "version": "3.6.6",
      "file_extension": ".py",
      "codemirror_mode": {
        "version": 3,
        "name": "ipython"
      }
    }
  },
  "nbformat": 4,
  "nbformat_minor": 1
}